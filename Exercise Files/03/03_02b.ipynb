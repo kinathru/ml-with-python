{
 "cells": [
  {
   "cell_type": "markdown",
   "metadata": {
    "pycharm": {
     "name": "#%% md\n"
    }
   },
   "source": [
    "# How to Summarize Data in Python"
   ]
  },
  {
   "cell_type": "markdown",
   "metadata": {
    "pycharm": {
     "name": "#%% md\n"
    }
   },
   "source": [
    "## Learning Objectives\n",
    "When exploring data, one of the most important things we can do is summarize it so we can better understand it. A common way to summarize data is by computing aggregations such as mean, median, maximum and minimum. These aggregations or statistical measures (as they are commonly referred to) describe the general and specific characteristics of our data. This is why these types of aggregations are sometimes referred to as **descriptive statistics** or **summary statistics**. The pandas DataFrame provides several methods for computing descriptive statistics. By the end of this tutorial, you will have learned:\n",
    "\n",
    "+ how to describe a DataFrame\n",
    "+ how to get simple aggregations\n",
    "+ how to get group-level aggregations"
   ]
  },
  {
   "cell_type": "markdown",
   "metadata": {
    "pycharm": {
     "name": "#%% md\n"
    }
   },
   "source": [
    "## How to Describe a DataFrame"
   ]
  },
  {
   "cell_type": "code",
   "execution_count": 1,
   "metadata": {
    "pycharm": {
     "name": "#%%\n"
    }
   },
   "outputs": [
    {
     "name": "stdout",
     "output_type": "stream",
     "text": [
      "<class 'pandas.core.frame.DataFrame'>\n",
      "RangeIndex: 261 entries, 0 to 260\n",
      "Data columns (total 18 columns):\n",
      " #   Column         Non-Null Count  Dtype  \n",
      "---  ------         --------------  -----  \n",
      " 0   ID             261 non-null    int64  \n",
      " 1   BrandName      261 non-null    object \n",
      " 2   ModelNumber    261 non-null    object \n",
      " 3   UPC            261 non-null    object \n",
      " 4   Configuration  261 non-null    object \n",
      " 5   Features       202 non-null    object \n",
      " 6   Market         261 non-null    object \n",
      " 7   Volume         261 non-null    float64\n",
      " 8   IMEF           261 non-null    float64\n",
      " 9   MinimumIMEF    261 non-null    float64\n",
      " 10  EnergyUse      261 non-null    int64  \n",
      " 11  IWF            261 non-null    float64\n",
      " 12  MaximumIWF     261 non-null    float64\n",
      " 13  WaterUse       261 non-null    int64  \n",
      " 14  DateAvailable  261 non-null    object \n",
      " 15  DateCertified  261 non-null    object \n",
      " 16  Countries      261 non-null    object \n",
      " 17  MostEfficient  261 non-null    object \n",
      "dtypes: float64(5), int64(3), object(10)\n",
      "memory usage: 36.8+ KB\n"
     ]
    }
   ],
   "source": [
    "import pandas as pd\n",
    "washers = pd.read_csv(\"washers.csv\")\n",
    "washers.info()"
   ]
  },
  {
   "cell_type": "code",
   "execution_count": 2,
   "metadata": {
    "pycharm": {
     "name": "#%%\n"
    }
   },
   "outputs": [
    {
     "data": {
      "text/plain": "        ID BrandName   ModelNumber          UPC Configuration  \\\n0  2342279        GE  GTW845C*N***            1      Top Load   \n1  2331684        GE  GUD27EE*N***  84691844198      Top Load   \n2  2331685        GE  GUD27EE*N***  7.57638E+11      Top Load   \n3  2331687        GE  GUD27GE*N***  84691844181      Top Load   \n4  2331686        GE  GUD37EE*N***  7.57638E+11      Top Load   \n\n                                     Features       Market  Volume  IMEF  \\\n0  Gentle Cycle,Delayed Start,Sanitize Option  Residential     5.0  2.06   \n1                                Gentle Cycle  Residential     3.9  2.06   \n2                                Gentle Cycle  Residential     3.9  2.06   \n3                                Gentle Cycle  Residential     3.9  2.06   \n4                                Gentle Cycle  Residential     3.9  2.06   \n\n   MinimumIMEF  EnergyUse  IWF  MaximumIWF  WaterUse DateAvailable  \\\n0         1.29        192  4.3         8.4      6368        8/5/19   \n1         1.29        140  4.3         8.4      4947      12/10/18   \n2         1.29        140  4.3         8.4      4947      12/10/18   \n3         1.29        140  4.3         8.4      4947      12/10/18   \n4         1.29        140  4.3         8.4      4947      12/10/18   \n\n  DateCertified              Countries MostEfficient  \n0       7/31/19  United States, Canada            No  \n1      11/30/18          United States            No  \n2      11/30/18                 Canada            No  \n3      11/30/18          United States            No  \n4      11/30/18                 Canada            No  ",
      "text/html": "<div>\n<style scoped>\n    .dataframe tbody tr th:only-of-type {\n        vertical-align: middle;\n    }\n\n    .dataframe tbody tr th {\n        vertical-align: top;\n    }\n\n    .dataframe thead th {\n        text-align: right;\n    }\n</style>\n<table border=\"1\" class=\"dataframe\">\n  <thead>\n    <tr style=\"text-align: right;\">\n      <th></th>\n      <th>ID</th>\n      <th>BrandName</th>\n      <th>ModelNumber</th>\n      <th>UPC</th>\n      <th>Configuration</th>\n      <th>Features</th>\n      <th>Market</th>\n      <th>Volume</th>\n      <th>IMEF</th>\n      <th>MinimumIMEF</th>\n      <th>EnergyUse</th>\n      <th>IWF</th>\n      <th>MaximumIWF</th>\n      <th>WaterUse</th>\n      <th>DateAvailable</th>\n      <th>DateCertified</th>\n      <th>Countries</th>\n      <th>MostEfficient</th>\n    </tr>\n  </thead>\n  <tbody>\n    <tr>\n      <th>0</th>\n      <td>2342279</td>\n      <td>GE</td>\n      <td>GTW845C*N***</td>\n      <td>1</td>\n      <td>Top Load</td>\n      <td>Gentle Cycle,Delayed Start,Sanitize Option</td>\n      <td>Residential</td>\n      <td>5.0</td>\n      <td>2.06</td>\n      <td>1.29</td>\n      <td>192</td>\n      <td>4.3</td>\n      <td>8.4</td>\n      <td>6368</td>\n      <td>8/5/19</td>\n      <td>7/31/19</td>\n      <td>United States, Canada</td>\n      <td>No</td>\n    </tr>\n    <tr>\n      <th>1</th>\n      <td>2331684</td>\n      <td>GE</td>\n      <td>GUD27EE*N***</td>\n      <td>84691844198</td>\n      <td>Top Load</td>\n      <td>Gentle Cycle</td>\n      <td>Residential</td>\n      <td>3.9</td>\n      <td>2.06</td>\n      <td>1.29</td>\n      <td>140</td>\n      <td>4.3</td>\n      <td>8.4</td>\n      <td>4947</td>\n      <td>12/10/18</td>\n      <td>11/30/18</td>\n      <td>United States</td>\n      <td>No</td>\n    </tr>\n    <tr>\n      <th>2</th>\n      <td>2331685</td>\n      <td>GE</td>\n      <td>GUD27EE*N***</td>\n      <td>7.57638E+11</td>\n      <td>Top Load</td>\n      <td>Gentle Cycle</td>\n      <td>Residential</td>\n      <td>3.9</td>\n      <td>2.06</td>\n      <td>1.29</td>\n      <td>140</td>\n      <td>4.3</td>\n      <td>8.4</td>\n      <td>4947</td>\n      <td>12/10/18</td>\n      <td>11/30/18</td>\n      <td>Canada</td>\n      <td>No</td>\n    </tr>\n    <tr>\n      <th>3</th>\n      <td>2331687</td>\n      <td>GE</td>\n      <td>GUD27GE*N***</td>\n      <td>84691844181</td>\n      <td>Top Load</td>\n      <td>Gentle Cycle</td>\n      <td>Residential</td>\n      <td>3.9</td>\n      <td>2.06</td>\n      <td>1.29</td>\n      <td>140</td>\n      <td>4.3</td>\n      <td>8.4</td>\n      <td>4947</td>\n      <td>12/10/18</td>\n      <td>11/30/18</td>\n      <td>United States</td>\n      <td>No</td>\n    </tr>\n    <tr>\n      <th>4</th>\n      <td>2331686</td>\n      <td>GE</td>\n      <td>GUD37EE*N***</td>\n      <td>7.57638E+11</td>\n      <td>Top Load</td>\n      <td>Gentle Cycle</td>\n      <td>Residential</td>\n      <td>3.9</td>\n      <td>2.06</td>\n      <td>1.29</td>\n      <td>140</td>\n      <td>4.3</td>\n      <td>8.4</td>\n      <td>4947</td>\n      <td>12/10/18</td>\n      <td>11/30/18</td>\n      <td>Canada</td>\n      <td>No</td>\n    </tr>\n  </tbody>\n</table>\n</div>"
     },
     "execution_count": 2,
     "metadata": {},
     "output_type": "execute_result"
    }
   ],
   "source": [
    "washers.head()"
   ]
  },
  {
   "cell_type": "markdown",
   "metadata": {
    "pycharm": {
     "name": "#%% md\n"
    }
   },
   "source": [
    "## How to get Simple Aggregations\n",
    "The `describe()` method returns a statistical summary for each of the columns in a DataFrame. It's important to note that the descriptive statistics returned by the `describe()` method depends on the data type of a column. For non-numeric columns, the descriptive statistics returned by the method are as follows:\n",
    "\n",
    "|Name      |   Description  |\n",
    "|-----------------|---------------------|\n",
    "| `count`         | Number of non-missing values                       |\n",
    "| `unique`       | Number of unique non-missing values                   |\n",
    "| `top`       | Most commonly occuring value   |\n",
    "| `freq`        | Frequency of the most commonly occuring value                   |\n"
   ]
  },
  {
   "cell_type": "code",
   "execution_count": 5,
   "metadata": {
    "pycharm": {
     "name": "#%%\n"
    }
   },
   "outputs": [
    {
     "data": {
      "text/plain": "       BrandName\ncount        261\nunique        22\ntop           LG\nfreq          50",
      "text/html": "<div>\n<style scoped>\n    .dataframe tbody tr th:only-of-type {\n        vertical-align: middle;\n    }\n\n    .dataframe tbody tr th {\n        vertical-align: top;\n    }\n\n    .dataframe thead th {\n        text-align: right;\n    }\n</style>\n<table border=\"1\" class=\"dataframe\">\n  <thead>\n    <tr style=\"text-align: right;\">\n      <th></th>\n      <th>BrandName</th>\n    </tr>\n  </thead>\n  <tbody>\n    <tr>\n      <th>count</th>\n      <td>261</td>\n    </tr>\n    <tr>\n      <th>unique</th>\n      <td>22</td>\n    </tr>\n    <tr>\n      <th>top</th>\n      <td>LG</td>\n    </tr>\n    <tr>\n      <th>freq</th>\n      <td>50</td>\n    </tr>\n  </tbody>\n</table>\n</div>"
     },
     "execution_count": 5,
     "metadata": {},
     "output_type": "execute_result"
    }
   ],
   "source": [
    "washers[['BrandName']].describe()"
   ]
  },
  {
   "cell_type": "markdown",
   "metadata": {
    "pycharm": {
     "name": "#%% md\n"
    }
   },
   "source": [
    "For numeric columns, the `describe()` method returns the following descriptive statistics:\n",
    "\n",
    "|Name      |   Description  |\n",
    "|-----------------|---------------------|\n",
    "| `count`         | Number of non-missing values                       |\n",
    "| `mean`       | Average of the non-missing values                   |\n",
    "| `std`       | Standard deviation of the values   |\n",
    "| `min`        | Smallest value                  |\n",
    "| `25%`         | 25th percentile                       |\n",
    "| `50%`       | 50th percentile (same as the median)                   |\n",
    "| `75%`       | 75th percentile   |\n",
    "| `max`        | Largest value                   |\n"
   ]
  },
  {
   "cell_type": "code",
   "execution_count": 6,
   "metadata": {
    "pycharm": {
     "name": "#%%\n"
    }
   },
   "outputs": [
    {
     "data": {
      "text/plain": "           Volume\ncount  261.000000\nmean     4.374713\nstd      0.965866\nmin      1.900000\n25%      4.300000\n50%      4.500000\n75%      5.000000\nmax      6.200000",
      "text/html": "<div>\n<style scoped>\n    .dataframe tbody tr th:only-of-type {\n        vertical-align: middle;\n    }\n\n    .dataframe tbody tr th {\n        vertical-align: top;\n    }\n\n    .dataframe thead th {\n        text-align: right;\n    }\n</style>\n<table border=\"1\" class=\"dataframe\">\n  <thead>\n    <tr style=\"text-align: right;\">\n      <th></th>\n      <th>Volume</th>\n    </tr>\n  </thead>\n  <tbody>\n    <tr>\n      <th>count</th>\n      <td>261.000000</td>\n    </tr>\n    <tr>\n      <th>mean</th>\n      <td>4.374713</td>\n    </tr>\n    <tr>\n      <th>std</th>\n      <td>0.965866</td>\n    </tr>\n    <tr>\n      <th>min</th>\n      <td>1.900000</td>\n    </tr>\n    <tr>\n      <th>25%</th>\n      <td>4.300000</td>\n    </tr>\n    <tr>\n      <th>50%</th>\n      <td>4.500000</td>\n    </tr>\n    <tr>\n      <th>75%</th>\n      <td>5.000000</td>\n    </tr>\n    <tr>\n      <th>max</th>\n      <td>6.200000</td>\n    </tr>\n  </tbody>\n</table>\n</div>"
     },
     "execution_count": 6,
     "metadata": {},
     "output_type": "execute_result"
    }
   ],
   "source": [
    "washers[['Volume']].describe()"
   ]
  },
  {
   "cell_type": "code",
   "execution_count": 8,
   "metadata": {
    "pycharm": {
     "name": "#%%\n"
    }
   },
   "outputs": [
    {
     "data": {
      "text/plain": "BrandName      \nLG                 50\nGE                 49\nSamsung            47\nKenmore            30\nWhirlpool          26\nMaytag             18\nElectrolux          7\nBosch               4\nMiele               4\nAsko                4\nBeko                3\nBlomberg            3\nCrosley             3\nMidea               2\nMagic Chef          2\nAmana               2\nFisher & Paykel     2\nInsignia            1\nInglis              1\nGaggenau            1\nGE Adora            1\nHaier               1\nName: count, dtype: int64"
     },
     "execution_count": 8,
     "metadata": {},
     "output_type": "execute_result"
    }
   ],
   "source": [
    "washers[['BrandName']].value_counts()"
   ]
  },
  {
   "cell_type": "code",
   "execution_count": 9,
   "metadata": {
    "scrolled": false,
    "pycharm": {
     "name": "#%%\n"
    }
   },
   "outputs": [
    {
     "data": {
      "text/plain": "BrandName      \nLG                 0.191571\nGE                 0.187739\nSamsung            0.180077\nKenmore            0.114943\nWhirlpool          0.099617\nMaytag             0.068966\nElectrolux         0.026820\nBosch              0.015326\nMiele              0.015326\nAsko               0.015326\nBeko               0.011494\nBlomberg           0.011494\nCrosley            0.011494\nMidea              0.007663\nMagic Chef         0.007663\nAmana              0.007663\nFisher & Paykel    0.007663\nInsignia           0.003831\nInglis             0.003831\nGaggenau           0.003831\nGE Adora           0.003831\nHaier              0.003831\nName: proportion, dtype: float64"
     },
     "execution_count": 9,
     "metadata": {},
     "output_type": "execute_result"
    }
   ],
   "source": [
    "washers[['BrandName']].value_counts(normalize='True')"
   ]
  },
  {
   "cell_type": "code",
   "execution_count": 10,
   "metadata": {
    "colab": {},
    "colab_type": "code",
    "id": "QOw8VY9dl_0e",
    "pycharm": {
     "name": "#%%\n"
    }
   },
   "outputs": [
    {
     "data": {
      "text/plain": "Volume    4.374713\ndtype: float64"
     },
     "execution_count": 10,
     "metadata": {},
     "output_type": "execute_result"
    }
   ],
   "source": [
    "washers[['Volume']].mean()"
   ]
  },
  {
   "cell_type": "markdown",
   "metadata": {
    "pycharm": {
     "name": "#%% md\n"
    }
   },
   "source": [
    "## How to get Group-level Aggregations"
   ]
  },
  {
   "cell_type": "code",
   "execution_count": 11,
   "metadata": {
    "scrolled": false,
    "pycharm": {
     "name": "#%%\n"
    }
   },
   "outputs": [
    {
     "data": {
      "text/plain": "                   Volume\nBrandName                \nAmana            4.250000\nAsko             2.525000\nBeko             2.133333\nBlomberg         2.300000\nBosch            2.200000\nCrosley          4.400000\nElectrolux       3.785714\nFisher & Paykel  2.400000\nGE               4.328571\nGE Adora         4.200000\nGaggenau         2.200000\nHaier            2.400000\nInglis           4.300000\nInsignia         4.800000\nKenmore          4.796667\nLG               4.596000\nMagic Chef       2.700000\nMaytag           4.988889\nMidea            5.200000\nMiele            2.300000\nSamsung          4.729787\nWhirlpool        4.453846",
      "text/html": "<div>\n<style scoped>\n    .dataframe tbody tr th:only-of-type {\n        vertical-align: middle;\n    }\n\n    .dataframe tbody tr th {\n        vertical-align: top;\n    }\n\n    .dataframe thead th {\n        text-align: right;\n    }\n</style>\n<table border=\"1\" class=\"dataframe\">\n  <thead>\n    <tr style=\"text-align: right;\">\n      <th></th>\n      <th>Volume</th>\n    </tr>\n    <tr>\n      <th>BrandName</th>\n      <th></th>\n    </tr>\n  </thead>\n  <tbody>\n    <tr>\n      <th>Amana</th>\n      <td>4.250000</td>\n    </tr>\n    <tr>\n      <th>Asko</th>\n      <td>2.525000</td>\n    </tr>\n    <tr>\n      <th>Beko</th>\n      <td>2.133333</td>\n    </tr>\n    <tr>\n      <th>Blomberg</th>\n      <td>2.300000</td>\n    </tr>\n    <tr>\n      <th>Bosch</th>\n      <td>2.200000</td>\n    </tr>\n    <tr>\n      <th>Crosley</th>\n      <td>4.400000</td>\n    </tr>\n    <tr>\n      <th>Electrolux</th>\n      <td>3.785714</td>\n    </tr>\n    <tr>\n      <th>Fisher &amp; Paykel</th>\n      <td>2.400000</td>\n    </tr>\n    <tr>\n      <th>GE</th>\n      <td>4.328571</td>\n    </tr>\n    <tr>\n      <th>GE Adora</th>\n      <td>4.200000</td>\n    </tr>\n    <tr>\n      <th>Gaggenau</th>\n      <td>2.200000</td>\n    </tr>\n    <tr>\n      <th>Haier</th>\n      <td>2.400000</td>\n    </tr>\n    <tr>\n      <th>Inglis</th>\n      <td>4.300000</td>\n    </tr>\n    <tr>\n      <th>Insignia</th>\n      <td>4.800000</td>\n    </tr>\n    <tr>\n      <th>Kenmore</th>\n      <td>4.796667</td>\n    </tr>\n    <tr>\n      <th>LG</th>\n      <td>4.596000</td>\n    </tr>\n    <tr>\n      <th>Magic Chef</th>\n      <td>2.700000</td>\n    </tr>\n    <tr>\n      <th>Maytag</th>\n      <td>4.988889</td>\n    </tr>\n    <tr>\n      <th>Midea</th>\n      <td>5.200000</td>\n    </tr>\n    <tr>\n      <th>Miele</th>\n      <td>2.300000</td>\n    </tr>\n    <tr>\n      <th>Samsung</th>\n      <td>4.729787</td>\n    </tr>\n    <tr>\n      <th>Whirlpool</th>\n      <td>4.453846</td>\n    </tr>\n  </tbody>\n</table>\n</div>"
     },
     "execution_count": 11,
     "metadata": {},
     "output_type": "execute_result"
    }
   ],
   "source": [
    "washers.groupby('BrandName')[['Volume']].mean()"
   ]
  },
  {
   "cell_type": "code",
   "execution_count": 12,
   "metadata": {
    "pycharm": {
     "name": "#%%\n"
    }
   },
   "outputs": [
    {
     "data": {
      "text/plain": "                   Volume\nBrandName                \nBeko             2.133333\nGaggenau         2.200000\nBosch            2.200000\nMiele            2.300000\nBlomberg         2.300000\nFisher & Paykel  2.400000\nHaier            2.400000\nAsko             2.525000\nMagic Chef       2.700000\nElectrolux       3.785714\nGE Adora         4.200000\nAmana            4.250000\nInglis           4.300000\nGE               4.328571\nCrosley          4.400000\nWhirlpool        4.453846\nLG               4.596000\nSamsung          4.729787\nKenmore          4.796667\nInsignia         4.800000\nMaytag           4.988889\nMidea            5.200000",
      "text/html": "<div>\n<style scoped>\n    .dataframe tbody tr th:only-of-type {\n        vertical-align: middle;\n    }\n\n    .dataframe tbody tr th {\n        vertical-align: top;\n    }\n\n    .dataframe thead th {\n        text-align: right;\n    }\n</style>\n<table border=\"1\" class=\"dataframe\">\n  <thead>\n    <tr style=\"text-align: right;\">\n      <th></th>\n      <th>Volume</th>\n    </tr>\n    <tr>\n      <th>BrandName</th>\n      <th></th>\n    </tr>\n  </thead>\n  <tbody>\n    <tr>\n      <th>Beko</th>\n      <td>2.133333</td>\n    </tr>\n    <tr>\n      <th>Gaggenau</th>\n      <td>2.200000</td>\n    </tr>\n    <tr>\n      <th>Bosch</th>\n      <td>2.200000</td>\n    </tr>\n    <tr>\n      <th>Miele</th>\n      <td>2.300000</td>\n    </tr>\n    <tr>\n      <th>Blomberg</th>\n      <td>2.300000</td>\n    </tr>\n    <tr>\n      <th>Fisher &amp; Paykel</th>\n      <td>2.400000</td>\n    </tr>\n    <tr>\n      <th>Haier</th>\n      <td>2.400000</td>\n    </tr>\n    <tr>\n      <th>Asko</th>\n      <td>2.525000</td>\n    </tr>\n    <tr>\n      <th>Magic Chef</th>\n      <td>2.700000</td>\n    </tr>\n    <tr>\n      <th>Electrolux</th>\n      <td>3.785714</td>\n    </tr>\n    <tr>\n      <th>GE Adora</th>\n      <td>4.200000</td>\n    </tr>\n    <tr>\n      <th>Amana</th>\n      <td>4.250000</td>\n    </tr>\n    <tr>\n      <th>Inglis</th>\n      <td>4.300000</td>\n    </tr>\n    <tr>\n      <th>GE</th>\n      <td>4.328571</td>\n    </tr>\n    <tr>\n      <th>Crosley</th>\n      <td>4.400000</td>\n    </tr>\n    <tr>\n      <th>Whirlpool</th>\n      <td>4.453846</td>\n    </tr>\n    <tr>\n      <th>LG</th>\n      <td>4.596000</td>\n    </tr>\n    <tr>\n      <th>Samsung</th>\n      <td>4.729787</td>\n    </tr>\n    <tr>\n      <th>Kenmore</th>\n      <td>4.796667</td>\n    </tr>\n    <tr>\n      <th>Insignia</th>\n      <td>4.800000</td>\n    </tr>\n    <tr>\n      <th>Maytag</th>\n      <td>4.988889</td>\n    </tr>\n    <tr>\n      <th>Midea</th>\n      <td>5.200000</td>\n    </tr>\n  </tbody>\n</table>\n</div>"
     },
     "execution_count": 12,
     "metadata": {},
     "output_type": "execute_result"
    }
   ],
   "source": [
    "washers.groupby('BrandName')[['Volume']].mean().sort_values(by='Volume')"
   ]
  },
  {
   "cell_type": "code",
   "execution_count": 13,
   "metadata": {
    "scrolled": false,
    "pycharm": {
     "name": "#%%\n"
    }
   },
   "outputs": [
    {
     "data": {
      "text/plain": "                   Volume                 \n                     mean median  min  max\nBrandName                                 \nAmana            4.250000   4.25  4.2  4.3\nAsko             2.525000   2.70  2.0  2.7\nBeko             2.133333   2.00  1.9  2.5\nBlomberg         2.300000   2.50  1.9  2.5\nBosch            2.200000   2.20  2.2  2.2\nCrosley          4.400000   4.50  4.2  4.5\nElectrolux       3.785714   4.30  2.4  4.4\nFisher & Paykel  2.400000   2.40  2.4  2.4\nGE               4.328571   4.50  2.2  5.2\nGE Adora         4.200000   4.20  4.2  4.2\nGaggenau         2.200000   2.20  2.2  2.2\nHaier            2.400000   2.40  2.4  2.4\nInglis           4.300000   4.30  4.3  4.3\nInsignia         4.800000   4.80  4.8  4.8\nKenmore          4.796667   4.80  2.4  6.2\nLG               4.596000   4.50  2.3  5.8\nMagic Chef       2.700000   2.70  2.7  2.7\nMaytag           4.988889   4.90  4.4  6.2\nMidea            5.200000   5.20  5.2  5.2\nMiele            2.300000   2.30  2.3  2.3\nSamsung          4.729787   4.80  2.2  5.6\nWhirlpool        4.453846   4.50  2.0  5.3",
      "text/html": "<div>\n<style scoped>\n    .dataframe tbody tr th:only-of-type {\n        vertical-align: middle;\n    }\n\n    .dataframe tbody tr th {\n        vertical-align: top;\n    }\n\n    .dataframe thead tr th {\n        text-align: left;\n    }\n\n    .dataframe thead tr:last-of-type th {\n        text-align: right;\n    }\n</style>\n<table border=\"1\" class=\"dataframe\">\n  <thead>\n    <tr>\n      <th></th>\n      <th colspan=\"4\" halign=\"left\">Volume</th>\n    </tr>\n    <tr>\n      <th></th>\n      <th>mean</th>\n      <th>median</th>\n      <th>min</th>\n      <th>max</th>\n    </tr>\n    <tr>\n      <th>BrandName</th>\n      <th></th>\n      <th></th>\n      <th></th>\n      <th></th>\n    </tr>\n  </thead>\n  <tbody>\n    <tr>\n      <th>Amana</th>\n      <td>4.250000</td>\n      <td>4.25</td>\n      <td>4.2</td>\n      <td>4.3</td>\n    </tr>\n    <tr>\n      <th>Asko</th>\n      <td>2.525000</td>\n      <td>2.70</td>\n      <td>2.0</td>\n      <td>2.7</td>\n    </tr>\n    <tr>\n      <th>Beko</th>\n      <td>2.133333</td>\n      <td>2.00</td>\n      <td>1.9</td>\n      <td>2.5</td>\n    </tr>\n    <tr>\n      <th>Blomberg</th>\n      <td>2.300000</td>\n      <td>2.50</td>\n      <td>1.9</td>\n      <td>2.5</td>\n    </tr>\n    <tr>\n      <th>Bosch</th>\n      <td>2.200000</td>\n      <td>2.20</td>\n      <td>2.2</td>\n      <td>2.2</td>\n    </tr>\n    <tr>\n      <th>Crosley</th>\n      <td>4.400000</td>\n      <td>4.50</td>\n      <td>4.2</td>\n      <td>4.5</td>\n    </tr>\n    <tr>\n      <th>Electrolux</th>\n      <td>3.785714</td>\n      <td>4.30</td>\n      <td>2.4</td>\n      <td>4.4</td>\n    </tr>\n    <tr>\n      <th>Fisher &amp; Paykel</th>\n      <td>2.400000</td>\n      <td>2.40</td>\n      <td>2.4</td>\n      <td>2.4</td>\n    </tr>\n    <tr>\n      <th>GE</th>\n      <td>4.328571</td>\n      <td>4.50</td>\n      <td>2.2</td>\n      <td>5.2</td>\n    </tr>\n    <tr>\n      <th>GE Adora</th>\n      <td>4.200000</td>\n      <td>4.20</td>\n      <td>4.2</td>\n      <td>4.2</td>\n    </tr>\n    <tr>\n      <th>Gaggenau</th>\n      <td>2.200000</td>\n      <td>2.20</td>\n      <td>2.2</td>\n      <td>2.2</td>\n    </tr>\n    <tr>\n      <th>Haier</th>\n      <td>2.400000</td>\n      <td>2.40</td>\n      <td>2.4</td>\n      <td>2.4</td>\n    </tr>\n    <tr>\n      <th>Inglis</th>\n      <td>4.300000</td>\n      <td>4.30</td>\n      <td>4.3</td>\n      <td>4.3</td>\n    </tr>\n    <tr>\n      <th>Insignia</th>\n      <td>4.800000</td>\n      <td>4.80</td>\n      <td>4.8</td>\n      <td>4.8</td>\n    </tr>\n    <tr>\n      <th>Kenmore</th>\n      <td>4.796667</td>\n      <td>4.80</td>\n      <td>2.4</td>\n      <td>6.2</td>\n    </tr>\n    <tr>\n      <th>LG</th>\n      <td>4.596000</td>\n      <td>4.50</td>\n      <td>2.3</td>\n      <td>5.8</td>\n    </tr>\n    <tr>\n      <th>Magic Chef</th>\n      <td>2.700000</td>\n      <td>2.70</td>\n      <td>2.7</td>\n      <td>2.7</td>\n    </tr>\n    <tr>\n      <th>Maytag</th>\n      <td>4.988889</td>\n      <td>4.90</td>\n      <td>4.4</td>\n      <td>6.2</td>\n    </tr>\n    <tr>\n      <th>Midea</th>\n      <td>5.200000</td>\n      <td>5.20</td>\n      <td>5.2</td>\n      <td>5.2</td>\n    </tr>\n    <tr>\n      <th>Miele</th>\n      <td>2.300000</td>\n      <td>2.30</td>\n      <td>2.3</td>\n      <td>2.3</td>\n    </tr>\n    <tr>\n      <th>Samsung</th>\n      <td>4.729787</td>\n      <td>4.80</td>\n      <td>2.2</td>\n      <td>5.6</td>\n    </tr>\n    <tr>\n      <th>Whirlpool</th>\n      <td>4.453846</td>\n      <td>4.50</td>\n      <td>2.0</td>\n      <td>5.3</td>\n    </tr>\n  </tbody>\n</table>\n</div>"
     },
     "execution_count": 13,
     "metadata": {},
     "output_type": "execute_result"
    }
   ],
   "source": [
    "washers.groupby('BrandName')[['Volume']].agg(['mean','median','min','max'])"
   ]
  }
 ],
 "metadata": {
  "kernelspec": {
   "display_name": "Python 3",
   "language": "python",
   "name": "python3"
  },
  "language_info": {
   "codemirror_mode": {
    "name": "ipython",
    "version": 3
   },
   "file_extension": ".py",
   "mimetype": "text/x-python",
   "name": "python",
   "nbconvert_exporter": "python",
   "pygments_lexer": "ipython3",
   "version": "3.8.8"
  }
 },
 "nbformat": 4,
 "nbformat_minor": 4
}